{
 "cells": [
  {
   "cell_type": "markdown",
   "metadata": {},
   "source": [
    "- docs: https://face-recognition.readthedocs.io/en/latest/face_recognition.html\n",
    "- face recognition used: https://github.com/ageitgey/face_recognition"
   ]
  },
  {
   "cell_type": "markdown",
   "metadata": {},
   "source": [
    "## For testing only"
   ]
  },
  {
   "cell_type": "code",
   "execution_count": 1,
   "metadata": {},
   "outputs": [
    {
     "name": "stdout",
     "output_type": "stream",
     "text": [
      "[-1.82547867e-01  2.60341614e-01 -3.46864201e-02 -9.15299580e-02\n",
      " -1.49315372e-01  1.85766201e-02 -8.29656571e-02 -4.74582799e-02\n",
      "  1.52570933e-01 -4.10558097e-03  2.31237501e-01 -5.53767011e-02\n",
      " -2.46654317e-01 -1.63636487e-02 -3.20855975e-02  8.40576440e-02\n",
      " -2.21513018e-01 -4.06846851e-02 -1.00537993e-01  2.24268287e-02\n",
      "  9.92056280e-02  1.12263098e-01  6.33522496e-02  8.33507329e-02\n",
      " -6.60814941e-02 -3.64214569e-01 -3.76806669e-02 -1.21768683e-01\n",
      "  1.38467580e-01 -1.14823304e-01  7.51571655e-02 -1.53866503e-02\n",
      " -1.46745682e-01 -4.24677879e-02 -2.95799226e-04  3.27303186e-02\n",
      " -4.91484031e-02 -2.27554478e-02  2.29331866e-01  1.24631012e-02\n",
      " -1.29686415e-01  8.14248621e-02  3.16107459e-02  3.33386540e-01\n",
      "  1.74130887e-01  4.96648028e-02  1.63773596e-02 -1.08795717e-01\n",
      "  6.52691349e-02 -3.02975237e-01  1.23957567e-01  2.17035338e-01\n",
      "  1.29369780e-01  6.82895258e-02  1.27793059e-01 -1.33649930e-01\n",
      "  4.69275862e-02  1.96162939e-01 -2.55120754e-01  1.52502477e-01\n",
      "  1.14901781e-01  3.17177102e-02 -2.25065593e-02 -7.47431368e-02\n",
      "  2.48975784e-01  1.39116436e-01 -1.44550353e-01 -1.17994852e-01\n",
      "  7.66117498e-03 -1.44920051e-01 -9.89753976e-02  7.37144649e-02\n",
      " -1.00479223e-01 -1.98727325e-01 -2.56030351e-01  7.53137842e-02\n",
      "  2.73960650e-01  2.13342369e-01 -2.25059286e-01  3.85956690e-02\n",
      " -5.88323101e-02 -2.50878800e-02  8.29264671e-02  4.40914705e-02\n",
      " -1.17298335e-01 -1.66330323e-01 -5.83844632e-02  1.09698381e-02\n",
      "  1.26740903e-01 -1.48334131e-02 -1.20974788e-02  3.18887264e-01\n",
      "  6.24172986e-02 -3.36670913e-02 -1.60114467e-02 -1.38960499e-03\n",
      " -9.13718417e-02 -7.08734617e-02 -5.04617691e-02  5.59137482e-03\n",
      "  2.53640898e-02 -1.18866205e-01 -3.98723893e-02  4.94270548e-02\n",
      " -2.51205176e-01  1.38365999e-01  4.38905321e-04 -1.50663611e-02\n",
      "  4.92619462e-02 -1.82105247e-02 -9.68183205e-02  3.65637592e-04\n",
      "  2.09082752e-01 -2.93832690e-01  3.44651043e-01  1.67252406e-01\n",
      "  3.21054421e-02  1.56627357e-01  1.05121382e-01  6.66321367e-02\n",
      "  4.11989875e-02  3.87252867e-02 -6.26520738e-02 -8.52138102e-02\n",
      "  7.81303942e-02 -6.11796603e-02  5.62417693e-03  1.23320781e-02]\n"
     ]
    }
   ],
   "source": [
    "import cv2\n",
    "import face_recognition\n",
    "\"\"\" print(cv2.__version__) \"\"\"\n",
    "# yall gottta add ur own images and change the path to the image if u wanna test too.\n",
    "img = cv2.imread('faces/ryan_reynolds.jpg')\n",
    "rgb_img = cv2.cvtColor(img, cv2.COLOR_BGR2RGB)\n",
    "img_encodings = face_recognition.face_encodings(rgb_img)[0]\n",
    "\n",
    "img2 = cv2.imread('faces/ryan_reynolds1.jpg')\n",
    "rgb_img2 = cv2.cvtColor(img2, cv2.COLOR_BGR2RGB)\n",
    "img_encodings2 = face_recognition.face_encodings(rgb_img2)[0]\n",
    "\n",
    "img3 = cv2.imread('faces/ryan_gosling.webp')\n",
    "rgb_img3 = cv2.cvtColor(img3, cv2.COLOR_BGR2RGB)\n",
    "img_encodings3 = face_recognition.face_encodings(rgb_img3)[0]\n",
    "\n",
    "img4 = cv2.imread('faces/ryan_gosling1.webp')\n",
    "rgb_img4 = cv2.cvtColor(img4, cv2.COLOR_BGR2RGB)\n",
    "img_encodings4 = face_recognition.face_encodings(rgb_img4)[0]\n",
    "\n",
    "\"\"\" cv2.imshow('Ryan Reynolds', img)\n",
    "cv2.imshow('Ryan Reynolds 1', img2)\n",
    "cv2.imshow('Ryan Gosling', img3)\n",
    "cv2.waitKey(0) \"\"\"\n",
    "\n",
    "print(img_encodings)"
   ]
  },
  {
   "cell_type": "code",
   "execution_count": 3,
   "metadata": {},
   "outputs": [
    {
     "name": "stdout",
     "output_type": "stream",
     "text": [
      "[np.True_]\n"
     ]
    }
   ],
   "source": [
    "result = face_recognition.compare_faces([img_encodings], img_encodings2) # Should return True\n",
    "print(result)"
   ]
  },
  {
   "cell_type": "code",
   "execution_count": 4,
   "metadata": {},
   "outputs": [
    {
     "name": "stdout",
     "output_type": "stream",
     "text": [
      "[np.True_]\n"
     ]
    }
   ],
   "source": [
    "result = face_recognition.compare_faces([img_encodings3], img_encodings4) # Should return True\n",
    "print(result)"
   ]
  },
  {
   "cell_type": "code",
   "execution_count": 5,
   "metadata": {},
   "outputs": [
    {
     "name": "stdout",
     "output_type": "stream",
     "text": [
      "[np.False_]\n"
     ]
    }
   ],
   "source": [
    "result = face_recognition.compare_faces([img_encodings], img_encodings3) # Should return False\n",
    "print(result)"
   ]
  },
  {
   "cell_type": "code",
   "execution_count": 6,
   "metadata": {},
   "outputs": [
    {
     "name": "stdout",
     "output_type": "stream",
     "text": [
      "[np.False_]\n"
     ]
    }
   ],
   "source": [
    "result = face_recognition.compare_faces([img_encodings2], img_encodings4) # Should return False\n",
    "print(result)"
   ]
  },
  {
   "cell_type": "markdown",
   "metadata": {},
   "source": [
    "## Using real time video feed using webcam\n",
    "- create a folder called faces\n",
    "- add your image to the faces folder and pictures of other people to test"
   ]
  },
  {
   "cell_type": "code",
   "execution_count": 2,
   "metadata": {},
   "outputs": [
    {
     "name": "stdout",
     "output_type": "stream",
     "text": [
      "['me.JPG', 'ryan_gosling.webp', 'ryan_gosling1.webp', 'ryan_reynolds.jpg', 'ryan_reynolds1.jpg']\n"
     ]
    }
   ],
   "source": [
    "import cv2\n",
    "import face_recognition\n",
    "import numpy as np\n",
    "import math\n",
    "import os, sys\n",
    "\n",
    "# Define face_confidence function\n",
    "def face_confidence(face_distance, face_match_threshold=0.6):\n",
    "    if face_distance > face_match_threshold:\n",
    "        range = (1.0 - face_match_threshold)\n",
    "        linear_val = (1.0 - face_distance) / (range * 2.0)\n",
    "        return round(linear_val,2) #rounding to 2 decimal places\n",
    "    else:\n",
    "        range = face_match_threshold\n",
    "        linear_val = 1.0 - (face_distance / (range * 2.0))\n",
    "        return round(linear_val,2)\n",
    "    \n",
    "class FaceRecognition:\n",
    "    face_locations = []\n",
    "    face_encodings = []\n",
    "    face_names = []\n",
    "    known_face_encodings = []\n",
    "    known_face_names = []\n",
    "    process_current_frame = True #Reccommended from docs saves processing power not making it detect faces for every frame\n",
    "\n",
    "    def __init__(self):\n",
    "        self.encode_faces()\n",
    "\n",
    "    def encode_faces(self):\n",
    "        for image in os.listdir('faces'):\n",
    "            face_image = face_recognition.load_image_file(f'faces/{image}')\n",
    "            face_enc = face_recognition.face_encodings(face_image)[0]\n",
    "\n",
    "            self.known_face_encodings.append(face_enc)\n",
    "            self.known_face_names.append(image)\n",
    "        print(self.known_face_names)\n",
    "\n",
    "    def video_recognition(self):\n",
    "        cap = cv2.VideoCapture(0)\n",
    "        if not cap.isOpened():\n",
    "            print('Error: Could not open video.')\n",
    "            sys.exit()\n",
    "\n",
    "        while True:\n",
    "            ret, frame = cap.read()\n",
    "\n",
    "            if self.process_current_frame:\n",
    "                small_frame = cv2.resize(frame, (0, 0), fx=0.25, fy=0.25)\n",
    "                rgb_small_frame = cv2.cvtColor(small_frame, cv2.COLOR_BGR2RGB)\n",
    "\n",
    "                # Find face in frame\n",
    "                self.face_locations = face_recognition.face_locations(rgb_small_frame)\n",
    "                self.face_encodings = face_recognition.face_encodings(rgb_small_frame, self.face_locations)\n",
    "\n",
    "                #recognition part\n",
    "                self.face_names = []\n",
    "                for face_encoding in self.face_encodings:\n",
    "                    \"\"\" match = face_recognition.compare_faces(self.known_face_encodings, face_encoding, tolerance=0.5) \"\"\" ## tolerance is the threshold for face matching. This is just for testing\n",
    "                    match = face_recognition.compare_faces(self.known_face_encodings, face_encoding)\n",
    "                    # default name and confidence\n",
    "                    name = '???'\n",
    "                    confidence = '???'\n",
    "\n",
    "                    face_distances = face_recognition.face_distance(self.known_face_encodings, face_encoding)\n",
    "                    best_match_index = np.argmin(face_distances)\n",
    "\n",
    "                    if match[best_match_index]:\n",
    "                        name = self.known_face_names[best_match_index]\n",
    "                        confidence = face_confidence(face_distances[best_match_index])\n",
    "                    \n",
    "                    self.face_names.append(f'{name} ({confidence})')\n",
    "\n",
    "            self.process_current_frame = not self.process_current_frame #only process every other frame\n",
    "\n",
    "            # Drawing the binding box\n",
    "            for(top, right, bottom, left), name in zip(self.face_locations, self.face_names):\n",
    "                top*=4\n",
    "                right*=4\n",
    "                bottom*=4\n",
    "                left*=4\n",
    "\n",
    "                cv2.rectangle(frame, (left, top), (right, bottom), (255, 0, 0), 2)\n",
    "                \"\"\" cv2.rectangle(frame, (left, bottom-35), (right, bottom), (255, 0, 0), -1) # \"\"\"\n",
    "                cv2.putText(frame, name, (left+6, bottom-6), cv2.FONT_HERSHEY_SIMPLEX, 1, (255, 255, 255), 1)\n",
    "            \n",
    "            cv2.imshow('Face Recognition', frame)\n",
    "\n",
    "            if cv2.waitKey(1) & 0xFF == ord('q'):\n",
    "                break\n",
    "\n",
    "        cap.release()\n",
    "        cv2.destroyAllWindows()\n",
    "\n",
    "\n",
    "\n",
    "if __name__ == '__main__':\n",
    "    fr = FaceRecognition()\n",
    "    fr.video_recognition()"
   ]
  },
  {
   "cell_type": "markdown",
   "metadata": {},
   "source": [
    "## DLIB"
   ]
  },
  {
   "cell_type": "markdown",
   "metadata": {},
   "source": [
    "## Functions to generating, saving and loading embedded face data for model"
   ]
  },
  {
   "cell_type": "code",
   "execution_count": 1,
   "metadata": {},
   "outputs": [
    {
     "name": "stdout",
     "output_type": "stream",
     "text": [
      "Added Me to the known faces database.\n",
      "Saved embeddings and names to face_embeddings.pkl\n",
      "Loaded embeddings and names from face_embeddings.pkl\n"
     ]
    }
   ],
   "source": [
    "import cv2\n",
    "import dlib\n",
    "import numpy as np\n",
    "from imutils import face_utils\n",
    "import pickle\n",
    "import time\n",
    "\n",
    "\n",
    "# Load pre-trained models\n",
    "detector = dlib.get_frontal_face_detector() # This is a model to detect faces. Does not do the recognising part. Only detects the location of faces in the frame\n",
    "predictor = dlib.shape_predictor(\"shape_predictor_68_face_landmarks.dat\") # This model finds landmarks in the face like eyes, nose, lips. Used for embedding\n",
    "face_rec_model = dlib.face_recognition_model_v1(\"dlib_face_recognition_resnet_model_v1.dat\") # This model is used to compute the face embeddings to compare faces\n",
    "\n",
    "# Function to compute the 128D face embedding\n",
    "def get_face_embedding(face_image, shape):\n",
    "    face_embedding = face_rec_model.compute_face_descriptor(face_image, shape)\n",
    "    return np.array(face_embedding)\n",
    "\n",
    "# Function to load an image, detect a face, and compute the embedding\n",
    "def get_embedding_from_image(image_path):\n",
    "    image = cv2.imread(image_path)\n",
    "    gray = cv2.cvtColor(image, cv2.COLOR_BGR2GRAY)\n",
    "    \n",
    "    # Detect faces in the image\n",
    "    faces = detector(gray)\n",
    "    \n",
    "    if len(faces) == 0:\n",
    "        print(\"No face found in the image.\")\n",
    "        return None, None\n",
    "    \n",
    "    # Get the shape of the first detected face (assuming one face per image)\n",
    "    face = faces[0]\n",
    "    shape = predictor(gray, face)\n",
    "    \n",
    "    # Get the embedding for the face\n",
    "    embedding = get_face_embedding(image, shape)\n",
    "    \n",
    "    return embedding, image\n",
    "\n",
    "\n",
    "# Function to compare two face embeddings using Euclidean distance\n",
    "def compare_faces(known_embedding, new_embedding, threshold=0.6):\n",
    "    distance = np.linalg.norm(known_embedding - new_embedding)\n",
    "    return distance < threshold  # Return True if the distance is below the threshold\n",
    "\n",
    "# List to store known face embeddings and their corresponding names\n",
    "known_face_embeddings = []\n",
    "known_face_names = []\n",
    "\n",
    "# Function to add a new person by uploading an image and getting their embedding\n",
    "def add_new_face(image_path, name):\n",
    "    embedding, image = get_embedding_from_image(image_path)\n",
    "    if embedding is not None:\n",
    "        known_face_embeddings.append(embedding)\n",
    "        known_face_names.append(name)\n",
    "        print(f\"Added {name} to the known faces database.\")\n",
    "        save_embeddings_to_pickle(\"face_embeddings.pkl\")\n",
    "        \n",
    "\n",
    "# Function to load embeddings and names from a pickle file\n",
    "def load_embeddings_from_pickle(pickle_file):\n",
    "    global known_face_embeddings, known_face_names\n",
    "    try:\n",
    "        with open(pickle_file, 'rb') as f:\n",
    "            known_face_embeddings, known_face_names = pickle.load(f)\n",
    "        print(f\"Loaded embeddings and names from {pickle_file}\")\n",
    "    except FileNotFoundError:\n",
    "        print(f\"Pickle file {pickle_file} not found.\")\n",
    "    except Exception as e:\n",
    "        print(f\"Error loading pickle file: {e}\")\n",
    "\n",
    "# Function to save embeddings and names to a pickle file\n",
    "def save_embeddings_to_pickle(pickle_file):\n",
    "    with open(pickle_file, 'wb') as f:\n",
    "        pickle.dump((known_face_embeddings, known_face_names), f)\n",
    "    print(f\"Saved embeddings and names to {pickle_file}\")\n",
    "\n",
    "## UNCOMMENT THIS PART TO ADD NEW FACE\n",
    "# I commented this part out to test the loading of embeddings from a pickle file\n",
    "image_path = \"faces/me.JPG\"  \n",
    "name = \"Me\"  \n",
    "add_new_face(image_path, name)\n",
    "\n",
    "# Load embeddings from a previously saved pickle file (if available)\n",
    "pickle_file = \"face_embeddings.pkl\"\n",
    "load_embeddings_from_pickle(pickle_file)\n",
    "\n"
   ]
  },
  {
   "cell_type": "markdown",
   "metadata": {},
   "source": [
    "## Function for running real time face detection"
   ]
  },
  {
   "cell_type": "code",
   "execution_count": 4,
   "metadata": {},
   "outputs": [],
   "source": [
    "# Function to run face recognition on a live webcam feed\n",
    "def run_face_recognition():\n",
    "    min_face_size = 350 # Minimum bounding box size to detect a face. Used to filter out people who are far away\n",
    "    cap = cv2.VideoCapture(0)\n",
    "    cap.set(cv2.CAP_PROP_FRAME_WIDTH, 640)\n",
    "    cap.set(cv2.CAP_PROP_FRAME_HEIGHT, 480)\n",
    "    while True:\n",
    "        # Capture frame-by-frame from the webcam\n",
    "        ret, frame = cap.read()\n",
    "        gray = cv2.cvtColor(frame, cv2.COLOR_BGR2GRAY)\n",
    "\n",
    "        # Detect faces in the frame\n",
    "        faces = detector(gray, 1)\n",
    "        for face in faces:\n",
    "            x, y, w, h = face.left(), face.top(), face.right(), face.bottom()\n",
    "            print(f\"Face found at X: {x}, Y: {y}, W: {w}, H: {h}\")\n",
    "            if w >= min_face_size and h >= min_face_size:\n",
    "                start_time = time.time()\n",
    "                shape = predictor(gray, face)# Get the landmarks/parts for the face\n",
    "                new_face_embedding = get_face_embedding(frame, shape)# Compute the face embedding for the detected face\n",
    "            \n",
    "                cv2.rectangle(frame, (x, y), (w, h), (0, 255, 0), 2)\n",
    "                # Compare the new face embedding with known faces\n",
    "                recognized_name = \"Unknown\"\n",
    "                for i, known_embedding in enumerate(known_face_embeddings):\n",
    "                    if compare_faces(known_embedding, new_face_embedding):\n",
    "                        recognized_name = known_face_names[i]\n",
    "                        break\n",
    "                print(f\"Recognised {recognized_name} in {time.time() - start_time:.8f} seconds\")\n",
    "\n",
    "                # Bounding box\n",
    "                cv2.putText(frame, recognized_name, (x, y - 10), cv2.FONT_HERSHEY_SIMPLEX, 0.9, (255, 255, 255), 2)\n",
    "\n",
    "        # Display the resulting frame with face detections and names\n",
    "        cv2.imshow('Video', frame)\n",
    "\n",
    "        # Break the loop on 'q' key press\n",
    "        if cv2.waitKey(1) & 0xFF == ord('q'):\n",
    "            break\n",
    "\n",
    "    # Release the capture when done\n",
    "    cap.release()\n",
    "    cv2.destroyAllWindows()"
   ]
  },
  {
   "cell_type": "code",
   "execution_count": 16,
   "metadata": {},
   "outputs": [
    {
     "name": "stdout",
     "output_type": "stream",
     "text": [
      "Face found at X: 291, Y: 266, W: 513, H: 489\n",
      "Recognised Me in 0.35107851 seconds\n",
      "Face found at X: 304, Y: 263, W: 489, H: 449\n",
      "Recognised Me in 0.35407853 seconds\n",
      "Face found at X: 266, Y: 242, W: 489, H: 464\n",
      "Recognised Me in 0.38408613 seconds\n",
      "Face found at X: 241, Y: 266, W: 464, H: 489\n",
      "Recognised Me in 0.35607958 seconds\n",
      "Face found at X: 216, Y: 266, W: 439, H: 489\n",
      "Recognised Me in 0.35695601 seconds\n",
      "Face found at X: 191, Y: 242, W: 414, H: 464\n",
      "Recognised Me in 0.35507917 seconds\n",
      "Face found at X: 216, Y: 266, W: 439, H: 489\n",
      "Recognised Me in 0.35007882 seconds\n",
      "Face found at X: 241, Y: 242, W: 464, H: 464\n",
      "Recognised Me in 0.35107899 seconds\n",
      "Face found at X: 241, Y: 266, W: 464, H: 489\n",
      "Recognised Me in 0.35808110 seconds\n",
      "Face found at X: 291, Y: 217, W: 513, H: 440\n",
      "Recognised Me in 0.35808086 seconds\n",
      "Face found at X: 315, Y: 217, W: 538, H: 440\n",
      "Recognised Me in 0.34726071 seconds\n",
      "Face found at X: 291, Y: 217, W: 513, H: 440\n",
      "Recognised Me in 0.35066509 seconds\n",
      "Face found at X: 266, Y: 217, W: 489, H: 440\n",
      "Recognised Me in 0.35491943 seconds\n",
      "Face found at X: 171, Y: 201, W: 438, H: 468\n",
      "Recognised Me in 0.35007882 seconds\n",
      "Face found at X: 191, Y: 242, W: 414, H: 464\n",
      "Recognised Me in 0.34971738 seconds\n",
      "Face found at X: 191, Y: 242, W: 414, H: 464\n",
      "Recognised Me in 0.35507917 seconds\n",
      "Face found at X: 191, Y: 242, W: 414, H: 464\n",
      "Recognised Me in 0.34907842 seconds\n",
      "Face found at X: 216, Y: 242, W: 439, H: 464\n",
      "Recognised Me in 0.35007787 seconds\n"
     ]
    }
   ],
   "source": [
    "run_face_recognition()"
   ]
  },
  {
   "cell_type": "markdown",
   "metadata": {},
   "source": [
    "## Testing for saving the face embeddings for future uses in database"
   ]
  },
  {
   "cell_type": "code",
   "execution_count": 6,
   "metadata": {},
   "outputs": [
    {
     "name": "stdout",
     "output_type": "stream",
     "text": [
      "Face embeddings and names saved successfully.\n"
     ]
    }
   ],
   "source": [
    "import pickle\n",
    "\n",
    "with open('face_embeddings.pkl', 'wb') as f:\n",
    "    pickle.dump((known_face_embeddings, known_face_names), f)\n",
    "\n",
    "print(\"Face embeddings and names saved successfully.\")\n",
    "\n"
   ]
  },
  {
   "cell_type": "code",
   "execution_count": 7,
   "metadata": {},
   "outputs": [
    {
     "name": "stdout",
     "output_type": "stream",
     "text": [
      "Face embeddings and names loaded successfully.\n",
      "['Me']\n"
     ]
    }
   ],
   "source": [
    "import pickle\n",
    "\n",
    "# Load the embeddings and names from the .pkl file\n",
    "with open('face_embeddings.pkl', 'rb') as f:\n",
    "    known_face_embeddings, known_face_names = pickle.load(f)\n",
    "\n",
    "print(\"Face embeddings and names loaded successfully.\")\n",
    "print(known_face_names) #for checking\n"
   ]
  }
 ],
 "metadata": {
  "kernelspec": {
   "display_name": "venv",
   "language": "python",
   "name": "python3"
  },
  "language_info": {
   "codemirror_mode": {
    "name": "ipython",
    "version": 3
   },
   "file_extension": ".py",
   "mimetype": "text/x-python",
   "name": "python",
   "nbconvert_exporter": "python",
   "pygments_lexer": "ipython3",
   "version": "3.11.7"
  }
 },
 "nbformat": 4,
 "nbformat_minor": 2
}
