{
 "cells": [
  {
   "cell_type": "markdown",
   "metadata": {},
   "source": [
    "using https://github.com/ageitgey/face_recognition\n",
    "requirements:\n",
    "opencv-python\n",
    "face_recognition"
   ]
  },
  {
   "cell_type": "code",
   "execution_count": 7,
   "metadata": {},
   "outputs": [
    {
     "data": {
      "text/plain": [
       "-1"
      ]
     },
     "execution_count": 7,
     "metadata": {},
     "output_type": "execute_result"
    }
   ],
   "source": [
    "import cv2\n",
    "import face_recognition\n",
    "\"\"\" print(cv2.__version__) \"\"\"\n",
    "img = cv2.imread('dataset/ryan_reynolds.jpg')\n",
    "rgb_img = cv2.cvtColor(img, cv2.COLOR_BGR2RGB)\n",
    "img_encodings = face_recognition.face_encodings(rgb_img)[0]\n",
    "\n",
    "img2 = cv2.imread('dataset/ryan_reynolds1.jpg')\n",
    "rgb_img2 = cv2.cvtColor(img2, cv2.COLOR_BGR2RGB)\n",
    "img_encodings2 = face_recognition.face_encodings(rgb_img2)[0]\n",
    "\n",
    "img3 = cv2.imread('dataset/ryan_gosling.webp')\n",
    "rgb_img3 = cv2.cvtColor(img3, cv2.COLOR_BGR2RGB)\n",
    "img_encodings3 = face_recognition.face_encodings(rgb_img3)[0]\n",
    "\n",
    "img4 = cv2.imread('dataset/ryan_gosling1.webp')\n",
    "rgb_img4 = cv2.cvtColor(img4, cv2.COLOR_BGR2RGB)\n",
    "img_encodings4 = face_recognition.face_encodings(rgb_img4)[0]\n",
    "\n",
    "cv2.imshow('Ryan Reynolds', img)\n",
    "cv2.imshow('Ryan Reynolds 1', img2)\n",
    "cv2.imshow('Ryan Gosling', img3)\n",
    "cv2.waitKey(0)\n",
    "\n"
   ]
  },
  {
   "cell_type": "code",
   "execution_count": 8,
   "metadata": {},
   "outputs": [
    {
     "name": "stdout",
     "output_type": "stream",
     "text": [
      "[np.True_]\n"
     ]
    }
   ],
   "source": [
    "result = face_recognition.compare_faces([img_encodings], img_encodings2) # Should return True\n",
    "print(result)"
   ]
  },
  {
   "cell_type": "code",
   "execution_count": 9,
   "metadata": {},
   "outputs": [
    {
     "name": "stdout",
     "output_type": "stream",
     "text": [
      "[np.True_]\n"
     ]
    }
   ],
   "source": [
    "result = face_recognition.compare_faces([img_encodings3], img_encodings4) # Should return True\n",
    "print(result)"
   ]
  },
  {
   "cell_type": "code",
   "execution_count": 10,
   "metadata": {},
   "outputs": [
    {
     "name": "stdout",
     "output_type": "stream",
     "text": [
      "[np.False_]\n"
     ]
    }
   ],
   "source": [
    "result = face_recognition.compare_faces([img_encodings], img_encodings3) # Should return False\n",
    "print(result)"
   ]
  },
  {
   "cell_type": "code",
   "execution_count": null,
   "metadata": {},
   "outputs": [],
   "source": [
    "result = face_recognition.compare_faces([img_encodings2], img_encodings4) # Should return False\n",
    "print(result)"
   ]
  }
 ],
 "metadata": {
  "kernelspec": {
   "display_name": "venv",
   "language": "python",
   "name": "python3"
  },
  "language_info": {
   "codemirror_mode": {
    "name": "ipython",
    "version": 3
   },
   "file_extension": ".py",
   "mimetype": "text/x-python",
   "name": "python",
   "nbconvert_exporter": "python",
   "pygments_lexer": "ipython3",
   "version": "3.11.7"
  }
 },
 "nbformat": 4,
 "nbformat_minor": 2
}
