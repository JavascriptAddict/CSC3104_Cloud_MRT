{
 "cells": [
  {
   "cell_type": "markdown",
   "metadata": {},
   "source": [
    "- docs: https://face-recognition.readthedocs.io/en/latest/face_recognition.html\n",
    "- face recognition used: https://github.com/ageitgey/face_recognition"
   ]
  },
  {
   "cell_type": "markdown",
   "metadata": {},
   "source": [
    "## For testing only"
   ]
  },
  {
   "cell_type": "code",
   "execution_count": 1,
   "metadata": {},
   "outputs": [
    {
     "name": "stdout",
     "output_type": "stream",
     "text": [
      "[-1.82547867e-01  2.60341614e-01 -3.46864201e-02 -9.15299580e-02\n",
      " -1.49315372e-01  1.85766201e-02 -8.29656571e-02 -4.74582799e-02\n",
      "  1.52570933e-01 -4.10558097e-03  2.31237501e-01 -5.53767011e-02\n",
      " -2.46654317e-01 -1.63636487e-02 -3.20855975e-02  8.40576440e-02\n",
      " -2.21513018e-01 -4.06846851e-02 -1.00537993e-01  2.24268287e-02\n",
      "  9.92056280e-02  1.12263098e-01  6.33522496e-02  8.33507329e-02\n",
      " -6.60814941e-02 -3.64214569e-01 -3.76806669e-02 -1.21768683e-01\n",
      "  1.38467580e-01 -1.14823304e-01  7.51571655e-02 -1.53866503e-02\n",
      " -1.46745682e-01 -4.24677879e-02 -2.95799226e-04  3.27303186e-02\n",
      " -4.91484031e-02 -2.27554478e-02  2.29331866e-01  1.24631012e-02\n",
      " -1.29686415e-01  8.14248621e-02  3.16107459e-02  3.33386540e-01\n",
      "  1.74130887e-01  4.96648028e-02  1.63773596e-02 -1.08795717e-01\n",
      "  6.52691349e-02 -3.02975237e-01  1.23957567e-01  2.17035338e-01\n",
      "  1.29369780e-01  6.82895258e-02  1.27793059e-01 -1.33649930e-01\n",
      "  4.69275862e-02  1.96162939e-01 -2.55120754e-01  1.52502477e-01\n",
      "  1.14901781e-01  3.17177102e-02 -2.25065593e-02 -7.47431368e-02\n",
      "  2.48975784e-01  1.39116436e-01 -1.44550353e-01 -1.17994852e-01\n",
      "  7.66117498e-03 -1.44920051e-01 -9.89753976e-02  7.37144649e-02\n",
      " -1.00479223e-01 -1.98727325e-01 -2.56030351e-01  7.53137842e-02\n",
      "  2.73960650e-01  2.13342369e-01 -2.25059286e-01  3.85956690e-02\n",
      " -5.88323101e-02 -2.50878800e-02  8.29264671e-02  4.40914705e-02\n",
      " -1.17298335e-01 -1.66330323e-01 -5.83844632e-02  1.09698381e-02\n",
      "  1.26740903e-01 -1.48334131e-02 -1.20974788e-02  3.18887264e-01\n",
      "  6.24172986e-02 -3.36670913e-02 -1.60114467e-02 -1.38960499e-03\n",
      " -9.13718417e-02 -7.08734617e-02 -5.04617691e-02  5.59137482e-03\n",
      "  2.53640898e-02 -1.18866205e-01 -3.98723893e-02  4.94270548e-02\n",
      " -2.51205176e-01  1.38365999e-01  4.38905321e-04 -1.50663611e-02\n",
      "  4.92619462e-02 -1.82105247e-02 -9.68183205e-02  3.65637592e-04\n",
      "  2.09082752e-01 -2.93832690e-01  3.44651043e-01  1.67252406e-01\n",
      "  3.21054421e-02  1.56627357e-01  1.05121382e-01  6.66321367e-02\n",
      "  4.11989875e-02  3.87252867e-02 -6.26520738e-02 -8.52138102e-02\n",
      "  7.81303942e-02 -6.11796603e-02  5.62417693e-03  1.23320781e-02]\n"
     ]
    }
   ],
   "source": [
    "import cv2\n",
    "import face_recognition\n",
    "\"\"\" print(cv2.__version__) \"\"\"\n",
    "# yall gottta add ur own images and change the path to the image if u wanna test too.\n",
    "img = cv2.imread('faces/ryan_reynolds.jpg')\n",
    "rgb_img = cv2.cvtColor(img, cv2.COLOR_BGR2RGB)\n",
    "img_encodings = face_recognition.face_encodings(rgb_img)[0]\n",
    "\n",
    "img2 = cv2.imread('faces/ryan_reynolds1.jpg')\n",
    "rgb_img2 = cv2.cvtColor(img2, cv2.COLOR_BGR2RGB)\n",
    "img_encodings2 = face_recognition.face_encodings(rgb_img2)[0]\n",
    "\n",
    "img3 = cv2.imread('faces/ryan_gosling.webp')\n",
    "rgb_img3 = cv2.cvtColor(img3, cv2.COLOR_BGR2RGB)\n",
    "img_encodings3 = face_recognition.face_encodings(rgb_img3)[0]\n",
    "\n",
    "img4 = cv2.imread('faces/ryan_gosling1.webp')\n",
    "rgb_img4 = cv2.cvtColor(img4, cv2.COLOR_BGR2RGB)\n",
    "img_encodings4 = face_recognition.face_encodings(rgb_img4)[0]\n",
    "\n",
    "\"\"\" cv2.imshow('Ryan Reynolds', img)\n",
    "cv2.imshow('Ryan Reynolds 1', img2)\n",
    "cv2.imshow('Ryan Gosling', img3)\n",
    "cv2.waitKey(0) \"\"\"\n",
    "\n",
    "print(img_encodings)"
   ]
  },
  {
   "cell_type": "code",
   "execution_count": 3,
   "metadata": {},
   "outputs": [
    {
     "name": "stdout",
     "output_type": "stream",
     "text": [
      "[np.True_]\n"
     ]
    }
   ],
   "source": [
    "result = face_recognition.compare_faces([img_encodings], img_encodings2) # Should return True\n",
    "print(result)"
   ]
  },
  {
   "cell_type": "code",
   "execution_count": 4,
   "metadata": {},
   "outputs": [
    {
     "name": "stdout",
     "output_type": "stream",
     "text": [
      "[np.True_]\n"
     ]
    }
   ],
   "source": [
    "result = face_recognition.compare_faces([img_encodings3], img_encodings4) # Should return True\n",
    "print(result)"
   ]
  },
  {
   "cell_type": "code",
   "execution_count": 5,
   "metadata": {},
   "outputs": [
    {
     "name": "stdout",
     "output_type": "stream",
     "text": [
      "[np.False_]\n"
     ]
    }
   ],
   "source": [
    "result = face_recognition.compare_faces([img_encodings], img_encodings3) # Should return False\n",
    "print(result)"
   ]
  },
  {
   "cell_type": "code",
   "execution_count": 6,
   "metadata": {},
   "outputs": [
    {
     "name": "stdout",
     "output_type": "stream",
     "text": [
      "[np.False_]\n"
     ]
    }
   ],
   "source": [
    "result = face_recognition.compare_faces([img_encodings2], img_encodings4) # Should return False\n",
    "print(result)"
   ]
  },
  {
   "cell_type": "markdown",
   "metadata": {},
   "source": [
    "## Using real time video feed using webcam\n",
    "- create a folder called faces\n",
    "- add your image to the faces folder and pictures of other people to test"
   ]
  },
  {
   "cell_type": "code",
   "execution_count": 2,
   "metadata": {},
   "outputs": [
    {
     "name": "stdout",
     "output_type": "stream",
     "text": [
      "['me.JPG', 'ryan_gosling.webp', 'ryan_gosling1.webp', 'ryan_reynolds.jpg', 'ryan_reynolds1.jpg']\n"
     ]
    }
   ],
   "source": [
    "import cv2\n",
    "import face_recognition\n",
    "import numpy as np\n",
    "import math\n",
    "import os, sys\n",
    "\n",
    "# Define face_confidence function\n",
    "def face_confidence(face_distance, face_match_threshold=0.6):\n",
    "    if face_distance > face_match_threshold:\n",
    "        range = (1.0 - face_match_threshold)\n",
    "        linear_val = (1.0 - face_distance) / (range * 2.0)\n",
    "        return round(linear_val,2) #rounding to 2 decimal places\n",
    "    else:\n",
    "        range = face_match_threshold\n",
    "        linear_val = 1.0 - (face_distance / (range * 2.0))\n",
    "        return round(linear_val,2)\n",
    "    \n",
    "class FaceRecognition:\n",
    "    face_locations = []\n",
    "    face_encodings = []\n",
    "    face_names = []\n",
    "    known_face_encodings = []\n",
    "    known_face_names = []\n",
    "    process_current_frame = True #Reccommended from docs saves processing power not making it detect faces for every frame\n",
    "\n",
    "    def __init__(self):\n",
    "        self.encode_faces()\n",
    "\n",
    "    def encode_faces(self):\n",
    "        for image in os.listdir('faces'):\n",
    "            face_image = face_recognition.load_image_file(f'faces/{image}')\n",
    "            face_enc = face_recognition.face_encodings(face_image)[0]\n",
    "\n",
    "            self.known_face_encodings.append(face_enc)\n",
    "            self.known_face_names.append(image)\n",
    "        print(self.known_face_names)\n",
    "\n",
    "    def video_recognition(self):\n",
    "        cap = cv2.VideoCapture(0)\n",
    "        if not cap.isOpened():\n",
    "            print('Error: Could not open video.')\n",
    "            sys.exit()\n",
    "\n",
    "        while True:\n",
    "            ret, frame = cap.read()\n",
    "\n",
    "            if self.process_current_frame:\n",
    "                small_frame = cv2.resize(frame, (0, 0), fx=0.25, fy=0.25)\n",
    "                rgb_small_frame = cv2.cvtColor(small_frame, cv2.COLOR_BGR2RGB)\n",
    "\n",
    "                # Find face in frame\n",
    "                self.face_locations = face_recognition.face_locations(rgb_small_frame)\n",
    "                self.face_encodings = face_recognition.face_encodings(rgb_small_frame, self.face_locations)\n",
    "\n",
    "                #recognition part\n",
    "                self.face_names = []\n",
    "                for face_encoding in self.face_encodings:\n",
    "                    \"\"\" match = face_recognition.compare_faces(self.known_face_encodings, face_encoding, tolerance=0.5) \"\"\" ## tolerance is the threshold for face matching. This is just for testing\n",
    "                    match = face_recognition.compare_faces(self.known_face_encodings, face_encoding)\n",
    "                    # default name and confidence\n",
    "                    name = '???'\n",
    "                    confidence = '???'\n",
    "\n",
    "                    face_distances = face_recognition.face_distance(self.known_face_encodings, face_encoding)\n",
    "                    best_match_index = np.argmin(face_distances)\n",
    "\n",
    "                    if match[best_match_index]:\n",
    "                        name = self.known_face_names[best_match_index]\n",
    "                        confidence = face_confidence(face_distances[best_match_index])\n",
    "                    \n",
    "                    self.face_names.append(f'{name} ({confidence})')\n",
    "\n",
    "            self.process_current_frame = not self.process_current_frame #only process every other frame\n",
    "\n",
    "            # Drawing the binding box\n",
    "            for(top, right, bottom, left), name in zip(self.face_locations, self.face_names):\n",
    "                top*=4\n",
    "                right*=4\n",
    "                bottom*=4\n",
    "                left*=4\n",
    "\n",
    "                cv2.rectangle(frame, (left, top), (right, bottom), (255, 0, 0), 2)\n",
    "                \"\"\" cv2.rectangle(frame, (left, bottom-35), (right, bottom), (255, 0, 0), -1) # \"\"\"\n",
    "                cv2.putText(frame, name, (left+6, bottom-6), cv2.FONT_HERSHEY_SIMPLEX, 1, (255, 255, 255), 1)\n",
    "            \n",
    "            cv2.imshow('Face Recognition', frame)\n",
    "\n",
    "            if cv2.waitKey(1) & 0xFF == ord('q'):\n",
    "                break\n",
    "\n",
    "        cap.release()\n",
    "        cv2.destroyAllWindows()\n",
    "\n",
    "\n",
    "\n",
    "if __name__ == '__main__':\n",
    "    fr = FaceRecognition()\n",
    "    fr.video_recognition()"
   ]
  },
  {
   "cell_type": "markdown",
   "metadata": {},
   "source": [
    "## DLIB"
   ]
  },
  {
   "cell_type": "markdown",
   "metadata": {},
   "source": [
    "## Functions to generating, saving and loading embedded face data for model"
   ]
  },
  {
   "cell_type": "code",
   "execution_count": null,
   "metadata": {},
   "outputs": [],
   "source": [
    "import dlib\n",
    "print(dlib.__version__) "
   ]
  },
  {
   "cell_type": "code",
   "execution_count": 1,
   "metadata": {},
   "outputs": [],
   "source": [
    "import cv2\n",
    "import dlib\n",
    "import numpy as np\n",
    "import pickle\n",
    "import os\n",
    "\n",
    "# Load pre-trained models\n",
    "detector = dlib.get_frontal_face_detector()\n",
    "predictor = dlib.shape_predictor(\"shape_predictor_68_face_landmarks.dat\")\n",
    "face_rec_model = dlib.face_recognition_model_v1(\"dlib_face_recognition_resnet_model_v1.dat\")\n",
    "\n",
    "# Function to compute the 128D face embedding\n",
    "def get_face_embedding(face_image, shape):\n",
    "    face_embedding = face_rec_model.compute_face_descriptor(face_image, shape)\n",
    "    return np.array(face_embedding)\n",
    "\n",
    "# Function to load an image, detect a face, and compute the embedding\n",
    "def get_embedding_from_image(image_path):\n",
    "    image = cv2.imread(image_path)\n",
    "    gray = cv2.cvtColor(image, cv2.COLOR_BGR2GRAY)\n",
    "    \n",
    "    # Detect faces in the image\n",
    "    faces = detector(gray)\n",
    "    \n",
    "    if len(faces) == 0:\n",
    "        print(\"No face found in the image.\")\n",
    "        return None, None\n",
    "    \n",
    "    # Get the shape of the first detected face (assuming one face per image)\n",
    "    face = faces[0]\n",
    "    shape = predictor(gray, face)\n",
    "    \n",
    "    # Get the embedding for the face\n",
    "    embedding = get_face_embedding(image, shape)\n",
    "    \n",
    "    return embedding, image\n",
    "\n",
    "# Function to compare two face embeddings using Euclidean distance\n",
    "def compare_faces(known_embedding, new_embedding, threshold=0.6):\n",
    "    distance = np.linalg.norm(known_embedding - new_embedding)\n",
    "    return distance < threshold  # Return True if the distance is below the threshold\n",
    "\n",
    "# Initialize known face embeddings and names from the pickle file, if it exists\n",
    "def load_embeddings_from_pickle(pickle_file):\n",
    "    if os.path.exists(pickle_file):\n",
    "        with open(pickle_file, 'rb') as f:\n",
    "            return pickle.load(f)\n",
    "    else:\n",
    "        return [], []  # Return empty lists if pickle file doesn't exist\n",
    "\n",
    "# Function to save embeddings and names to a pickle file\n",
    "def save_embeddings_to_pickle(pickle_file, embeddings, names):\n",
    "    with open(pickle_file, 'wb') as f:\n",
    "        pickle.dump((embeddings, names), f)\n",
    "    print(f\"Saved embeddings and names to {pickle_file}\")\n",
    "\n",
    "# Load existing embeddings and names\n",
    "pickle_file = \"face_embeddings.pkl\"\n",
    "known_face_embeddings, known_face_names = load_embeddings_from_pickle(pickle_file)\n",
    "\n",
    "# Function to add a new person by uploading an image and getting their embedding\n",
    "def add_new_face(image_path, name):\n",
    "    global known_face_embeddings, known_face_names\n",
    "    embedding, _ = get_embedding_from_image(image_path)\n",
    "    if embedding is not None:\n",
    "        known_face_embeddings.append(embedding)\n",
    "        known_face_names.append(name)\n",
    "        save_embeddings_to_pickle(pickle_file, known_face_embeddings, known_face_names)\n",
    "        print(f\"Added {name} to the known faces database.\")\n",
    "\n",
    "\n"
   ]
  },
  {
   "cell_type": "code",
   "execution_count": 6,
   "metadata": {},
   "outputs": [
    {
     "ename": "RuntimeError",
     "evalue": "Unsupported image type, must be 8bit gray or RGB image.",
     "output_type": "error",
     "traceback": [
      "\u001b[1;31m---------------------------------------------------------------------------\u001b[0m",
      "\u001b[1;31mRuntimeError\u001b[0m                              Traceback (most recent call last)",
      "Cell \u001b[1;32mIn[6], line 4\u001b[0m\n\u001b[0;32m      2\u001b[0m image_path \u001b[38;5;241m=\u001b[39m \u001b[38;5;124m\"\u001b[39m\u001b[38;5;124mfaces/me.jpg\u001b[39m\u001b[38;5;124m\"\u001b[39m \n\u001b[0;32m      3\u001b[0m name \u001b[38;5;241m=\u001b[39m \u001b[38;5;124m\"\u001b[39m\u001b[38;5;124mDarren\u001b[39m\u001b[38;5;124m\"\u001b[39m\n\u001b[1;32m----> 4\u001b[0m \u001b[43madd_new_face\u001b[49m\u001b[43m(\u001b[49m\u001b[43mimage_path\u001b[49m\u001b[43m,\u001b[49m\u001b[43m \u001b[49m\u001b[43mname\u001b[49m\u001b[43m)\u001b[49m\n",
      "Cell \u001b[1;32mIn[1], line 64\u001b[0m, in \u001b[0;36madd_new_face\u001b[1;34m(image_path, name)\u001b[0m\n\u001b[0;32m     62\u001b[0m \u001b[38;5;28;01mdef\u001b[39;00m \u001b[38;5;21madd_new_face\u001b[39m(image_path, name):\n\u001b[0;32m     63\u001b[0m     \u001b[38;5;28;01mglobal\u001b[39;00m known_face_embeddings, known_face_names\n\u001b[1;32m---> 64\u001b[0m     embedding, _ \u001b[38;5;241m=\u001b[39m \u001b[43mget_embedding_from_image\u001b[49m\u001b[43m(\u001b[49m\u001b[43mimage_path\u001b[49m\u001b[43m)\u001b[49m\n\u001b[0;32m     65\u001b[0m     \u001b[38;5;28;01mif\u001b[39;00m embedding \u001b[38;5;129;01mis\u001b[39;00m \u001b[38;5;129;01mnot\u001b[39;00m \u001b[38;5;28;01mNone\u001b[39;00m:\n\u001b[0;32m     66\u001b[0m         known_face_embeddings\u001b[38;5;241m.\u001b[39mappend(embedding)\n",
      "Cell \u001b[1;32mIn[1], line 23\u001b[0m, in \u001b[0;36mget_embedding_from_image\u001b[1;34m(image_path)\u001b[0m\n\u001b[0;32m     20\u001b[0m gray \u001b[38;5;241m=\u001b[39m cv2\u001b[38;5;241m.\u001b[39mcvtColor(image, cv2\u001b[38;5;241m.\u001b[39mCOLOR_BGR2GRAY)\n\u001b[0;32m     22\u001b[0m \u001b[38;5;66;03m# Detect faces in the image\u001b[39;00m\n\u001b[1;32m---> 23\u001b[0m faces \u001b[38;5;241m=\u001b[39m \u001b[43mdetector\u001b[49m\u001b[43m(\u001b[49m\u001b[43mgray\u001b[49m\u001b[43m)\u001b[49m\n\u001b[0;32m     25\u001b[0m \u001b[38;5;28;01mif\u001b[39;00m \u001b[38;5;28mlen\u001b[39m(faces) \u001b[38;5;241m==\u001b[39m \u001b[38;5;241m0\u001b[39m:\n\u001b[0;32m     26\u001b[0m     \u001b[38;5;28mprint\u001b[39m(\u001b[38;5;124m\"\u001b[39m\u001b[38;5;124mNo face found in the image.\u001b[39m\u001b[38;5;124m\"\u001b[39m)\n",
      "\u001b[1;31mRuntimeError\u001b[0m: Unsupported image type, must be 8bit gray or RGB image."
     ]
    }
   ],
   "source": [
    "# To add image\n",
    "image_path = \"faces/me.jpg\" \n",
    "name = \"Darren\"\n",
    "add_new_face(image_path, name)"
   ]
  },
  {
   "cell_type": "code",
   "execution_count": 13,
   "metadata": {},
   "outputs": [
    {
     "name": "stdout",
     "output_type": "stream",
     "text": [
      "Known Face Names: ['Darren', 'Ryan Gosling']\n",
      "Known Face Embeddings:\n",
      "[-0.01868058  0.08564011  0.05817194 -0.02646313 -0.02929644 -0.01893535\n",
      " -0.1487243  -0.11367936  0.13209692 -0.09891735  0.19960441  0.00720049\n",
      " -0.20630121 -0.10474695 -0.05116588  0.17420474 -0.16647254 -0.08982423\n",
      " -0.00370136 -0.00199144  0.05576181  0.04511987  0.06549055 -0.00434251\n",
      " -0.03118888 -0.35392129 -0.10605627 -0.11295271  0.00278116 -0.00979992\n",
      " -0.10427234  0.08100738 -0.07713564 -0.03595746  0.07537783  0.13721099\n",
      "  0.00092566  0.01421921  0.21423632  0.0046144  -0.19808899  0.01770782\n",
      "  0.03399879  0.23606861  0.2442279   0.0570185   0.05939772 -0.12357722\n",
      "  0.15866596 -0.17130978  0.08902176  0.18414944  0.13823576  0.09966705\n",
      "  0.03433473 -0.13177553  0.04618246  0.06724964 -0.06711772  0.00300048\n",
      "  0.12534013 -0.08083674  0.0229241   0.00899508  0.26514316  0.03822265\n",
      " -0.14637649 -0.17102857  0.09101833 -0.12432031 -0.13268389  0.02721943\n",
      " -0.22579749 -0.11627074 -0.32974693  0.0160929   0.40043798  0.09142871\n",
      " -0.1968217   0.0744393  -0.08587579 -0.02105735  0.11917326  0.15437937\n",
      " -0.03693181  0.0175987  -0.09719256 -0.04342575  0.22388276 -0.08623886\n",
      " -0.0600085   0.15607975 -0.02142027  0.19711877  0.02769638  0.05182032\n",
      " -0.02654468  0.01860352 -0.15324007 -0.01881349  0.02446841 -0.03556369\n",
      "  0.00229917  0.12526278 -0.16315079  0.14228159 -0.02845472  0.08296062\n",
      "  0.0519095   0.03342792 -0.12049396 -0.05663299  0.17642623 -0.17789516\n",
      "  0.21462594  0.1662809   0.09090475  0.0894323   0.16257423  0.12407313\n",
      " -0.02159195 -0.02688192 -0.20508587 -0.04429193  0.06452978  0.03410402\n",
      "  0.0662536   0.0393816 ]\n",
      "[-0.08306811  0.16647348  0.02146651 -0.09141026 -0.12954642  0.04250124\n",
      " -0.07667147 -0.07750007  0.12055212 -0.00771651  0.13916905 -0.02508126\n",
      " -0.2784197   0.07284079  0.00500479  0.09265078 -0.17984028 -0.05153333\n",
      " -0.13501751 -0.07543966 -0.028269    0.18296443 -0.00833914  0.05708861\n",
      " -0.10554202 -0.35420072 -0.00118603 -0.11078509  0.10097691 -0.07762356\n",
      " -0.0648334   0.00959555 -0.20442805 -0.09505207  0.02874906  0.13643824\n",
      " -0.07199695 -0.05694731  0.15241581  0.130429   -0.0658611  -0.04226358\n",
      "  0.06924188  0.25767165  0.17557123  0.03383164  0.10336907 -0.06137159\n",
      "  0.0660278  -0.29431096  0.06322259  0.10980798  0.099951    0.13942787\n",
      "  0.08754979 -0.2488602  -0.01708333  0.13739723 -0.17349736  0.2610682\n",
      "  0.11467509 -0.0293361  -0.05146214 -0.0218499   0.27130529  0.05745107\n",
      " -0.09749871 -0.14889693  0.13363251 -0.14941266 -0.12671348  0.03320721\n",
      " -0.04526171 -0.14950356 -0.26772729  0.09167793  0.27839383  0.14696047\n",
      " -0.19673167 -0.01977205 -0.06968959 -0.0889278   0.06073062  0.03194835\n",
      " -0.0254315  -0.05452234 -0.06514645  0.04522314  0.25031349  0.00326048\n",
      "  0.04206577  0.29710427 -0.01828676  0.03433922  0.01256937  0.11012061\n",
      " -0.17464922  0.00943851 -0.06746601  0.00404133  0.12323573 -0.17614324\n",
      "  0.03109647  0.1307607  -0.19722724  0.14466235 -0.07072647 -0.02385992\n",
      "  0.0699776  -0.01680253 -0.16071664 -0.06450582  0.30749276 -0.23282677\n",
      "  0.26342055  0.24620539 -0.00385608  0.10200982  0.0704701   0.07798853\n",
      "  0.08262148  0.04709072 -0.18552868 -0.10943303 -0.00598113 -0.0795776\n",
      " -0.10964822  0.08774452]\n"
     ]
    }
   ],
   "source": [
    "pickle_file = \"face_embeddings.pkl\"\n",
    "\n",
    "# Load the contents of the pickle file\n",
    "with open(pickle_file, 'rb') as f:\n",
    "    data = pickle.load(f)\n",
    "    \"\"\" print(data) \"\"\"\n",
    "    # Print the contents\n",
    "    known_face_embeddings, known_face_names = data\n",
    "    print(\"Known Face Names:\", known_face_names)\n",
    "    print(\"Known Face Embeddings:\")\n",
    "    for embedding in known_face_embeddings:\n",
    "        print(embedding)"
   ]
  },
  {
   "cell_type": "markdown",
   "metadata": {},
   "source": [
    "## Function for running real time face detection"
   ]
  },
  {
   "cell_type": "code",
   "execution_count": 15,
   "metadata": {},
   "outputs": [],
   "source": [
    "# Function to run face recognition on a live webcam feed\n",
    "def run_face_recognition():\n",
    "    min_face_size = 350 # Minimum bounding box size to detect a face. Used to filter out people who are far away\n",
    "    cap = cv2.VideoCapture(0)\n",
    "    cap.set(cv2.CAP_PROP_FRAME_WIDTH, 640)\n",
    "    cap.set(cv2.CAP_PROP_FRAME_HEIGHT, 480)\n",
    "    while True:\n",
    "        # Capture frame-by-frame from the webcam\n",
    "        ret, frame = cap.read()\n",
    "        gray = cv2.cvtColor(frame, cv2.COLOR_BGR2GRAY)\n",
    "\n",
    "        # Detect faces in the frame\n",
    "        faces = detector(gray, 1)\n",
    "        for face in faces:\n",
    "            x, y, w, h = face.left(), face.top(), face.right(), face.bottom()\n",
    "            print(f\"Face found at X: {x}, Y: {y}, W: {w}, H: {h}\")\n",
    "            if w >= min_face_size and h >= min_face_size:\n",
    "                \"\"\" start_time = time.time() \"\"\"\n",
    "                shape = predictor(gray, face)# Get the landmarks/parts for the face\n",
    "                new_face_embedding = get_face_embedding(frame, shape)# Compute the face embedding for the detected face\n",
    "            \n",
    "                cv2.rectangle(frame, (x, y), (w, h), (0, 255, 0), 2)\n",
    "                # Compare the new face embedding with known faces\n",
    "                recognized_name = \"Unknown\"\n",
    "                for i, known_embedding in enumerate(known_face_embeddings):\n",
    "                    if compare_faces(known_embedding, new_face_embedding):\n",
    "                        recognized_name = known_face_names[i]\n",
    "                        break\n",
    "                \"\"\" print(f\"Recognised {recognized_name} in {time.time() - start_time:.8f} seconds\") \"\"\"\n",
    "\n",
    "                # Bounding box\n",
    "                cv2.putText(frame, recognized_name, (x, y - 10), cv2.FONT_HERSHEY_SIMPLEX, 0.9, (255, 255, 255), 2)\n",
    "\n",
    "        # Display the resulting frame with face detections and names\n",
    "        cv2.imshow('Video', frame)\n",
    "\n",
    "        # Break the loop on 'q' key press\n",
    "        if cv2.waitKey(1) & 0xFF == ord('q'):\n",
    "            break\n",
    "\n",
    "    # Release the capture when done\n",
    "    cap.release()\n",
    "    cv2.destroyAllWindows()"
   ]
  },
  {
   "cell_type": "code",
   "execution_count": 16,
   "metadata": {},
   "outputs": [
    {
     "name": "stdout",
     "output_type": "stream",
     "text": [
      "Face found at X: 390, Y: 217, W: 613, H: 440\n",
      "Face found at X: 390, Y: 217, W: 613, H: 440\n",
      "Face found at X: 390, Y: 217, W: 613, H: 440\n",
      "Face found at X: 349, Y: 201, W: 617, H: 468\n",
      "Face found at X: 340, Y: 217, W: 563, H: 440\n",
      "Face found at X: 340, Y: 217, W: 563, H: 440\n",
      "Face found at X: 340, Y: 217, W: 563, H: 440\n",
      "Face found at X: 340, Y: 217, W: 563, H: 440\n",
      "Face found at X: 291, Y: 217, W: 513, H: 440\n",
      "Face found at X: 315, Y: 192, W: 538, H: 415\n",
      "Face found at X: 340, Y: 217, W: 563, H: 440\n",
      "Face found at X: 365, Y: 217, W: 588, H: 440\n",
      "Face found at X: 365, Y: 192, W: 588, H: 415\n",
      "Face found at X: 340, Y: 217, W: 563, H: 440\n",
      "Face found at X: 319, Y: 201, W: 587, H: 468\n",
      "Face found at X: 365, Y: 217, W: 588, H: 440\n",
      "Face found at X: 365, Y: 217, W: 588, H: 440\n",
      "Face found at X: 365, Y: 217, W: 588, H: 440\n",
      "Face found at X: 365, Y: 217, W: 588, H: 440\n",
      "Face found at X: 365, Y: 217, W: 588, H: 440\n",
      "Face found at X: 365, Y: 217, W: 588, H: 440\n",
      "Face found at X: 365, Y: 217, W: 588, H: 440\n",
      "Face found at X: 365, Y: 217, W: 588, H: 440\n",
      "Face found at X: 349, Y: 201, W: 617, H: 468\n",
      "Face found at X: 193, Y: 234, W: 245, H: 285\n",
      "Face found at X: 390, Y: 192, W: 613, H: 415\n",
      "Face found at X: 204, Y: 211, W: 266, H: 274\n",
      "Face found at X: 204, Y: 211, W: 266, H: 274\n",
      "Face found at X: 211, Y: 198, W: 273, H: 260\n",
      "Face found at X: 211, Y: 198, W: 273, H: 260\n",
      "Face found at X: 204, Y: 198, W: 266, H: 260\n",
      "Face found at X: 197, Y: 205, W: 259, H: 267\n",
      "Face found at X: 196, Y: 204, W: 270, H: 279\n",
      "Face found at X: 204, Y: 213, W: 278, H: 287\n",
      "Face found at X: 196, Y: 221, W: 270, H: 296\n",
      "Face found at X: 179, Y: 221, W: 254, H: 296\n",
      "Face found at X: 155, Y: 216, W: 245, H: 305\n",
      "Face found at X: 155, Y: 216, W: 245, H: 305\n",
      "Face found at X: 155, Y: 216, W: 245, H: 305\n",
      "Face found at X: 155, Y: 206, W: 245, H: 295\n",
      "Face found at X: 155, Y: 206, W: 245, H: 295\n",
      "Face found at X: 154, Y: 204, W: 229, H: 279\n",
      "Face found at X: 145, Y: 206, W: 235, H: 295\n",
      "Face found at X: 145, Y: 206, W: 235, H: 295\n",
      "Face found at X: 135, Y: 216, W: 225, H: 305\n",
      "Face found at X: 135, Y: 226, W: 225, H: 315\n",
      "Face found at X: 126, Y: 226, W: 215, H: 315\n",
      "Face found at X: 115, Y: 223, W: 223, H: 331\n",
      "Face found at X: 103, Y: 211, W: 211, H: 319\n",
      "Face found at X: 135, Y: 216, W: 225, H: 305\n",
      "Face found at X: 197, Y: 205, W: 259, H: 267\n",
      "Face found at X: 199, Y: 205, W: 250, H: 257\n",
      "Face found at X: 239, Y: 429, W: 291, H: 481\n",
      "Face found at X: 117, Y: 420, W: 160, H: 463\n",
      "Face found at X: 199, Y: 211, W: 250, H: 262\n",
      "Face found at X: 242, Y: 439, W: 285, H: 482\n",
      "Face found at X: 121, Y: 434, W: 157, H: 470\n",
      "Face found at X: 204, Y: 222, W: 256, H: 274\n",
      "Face found at X: 247, Y: 449, W: 290, H: 492\n",
      "Face found at X: 125, Y: 442, W: 161, H: 478\n",
      "Face found at X: 210, Y: 222, W: 262, H: 274\n",
      "Face found at X: 129, Y: 442, W: 165, H: 478\n",
      "Face found at X: 222, Y: 222, W: 273, H: 274\n",
      "Face found at X: 261, Y: 449, W: 304, H: 492\n",
      "Face found at X: 137, Y: 442, W: 173, H: 478\n",
      "Face found at X: 227, Y: 216, W: 279, H: 268\n",
      "Face found at X: 266, Y: 449, W: 309, H: 492\n",
      "Face found at X: 141, Y: 438, W: 177, H: 474\n",
      "Face found at X: 225, Y: 211, W: 287, H: 274\n",
      "Face found at X: 271, Y: 444, W: 314, H: 487\n",
      "Face found at X: 145, Y: 434, W: 181, H: 470\n",
      "Face found at X: 271, Y: 444, W: 314, H: 487\n",
      "Face found at X: 233, Y: 216, W: 285, H: 268\n",
      "Face found at X: 149, Y: 434, W: 185, H: 470\n",
      "Face found at X: 225, Y: 211, W: 287, H: 274\n",
      "Face found at X: 271, Y: 449, W: 314, H: 492\n",
      "Face found at X: 145, Y: 438, W: 181, H: 474\n",
      "Face found at X: 233, Y: 216, W: 285, H: 268\n",
      "Face found at X: 145, Y: 442, W: 181, H: 478\n",
      "Face found at X: 227, Y: 216, W: 279, H: 268\n",
      "Face found at X: 266, Y: 449, W: 309, H: 492\n",
      "Face found at X: 137, Y: 438, W: 173, H: 474\n",
      "Face found at X: 190, Y: 184, W: 252, H: 246\n",
      "Face found at X: 121, Y: 146, W: 196, H: 221\n",
      "Face found at X: 56, Y: 116, W: 145, H: 206\n",
      "Face found at X: 36, Y: 126, W: 126, H: 216\n",
      "Face found at X: 390, Y: 192, W: 613, H: 415\n",
      "Face found at X: 8, Y: 140, W: 115, H: 247\n",
      "Face found at X: 8, Y: 140, W: 115, H: 247\n",
      "Face found at X: 8, Y: 140, W: 115, H: 247\n",
      "Face found at X: 8, Y: 140, W: 115, H: 247\n",
      "Face found at X: 8, Y: 140, W: 115, H: 247\n",
      "Face found at X: 36, Y: 146, W: 126, H: 236\n",
      "Face found at X: 46, Y: 156, W: 135, H: 245\n",
      "Face found at X: 390, Y: 192, W: 613, H: 415\n",
      "Face found at X: 365, Y: 192, W: 588, H: 415\n",
      "Face found at X: 340, Y: 192, W: 563, H: 415\n",
      "Face found at X: 365, Y: 192, W: 588, H: 415\n"
     ]
    }
   ],
   "source": [
    "run_face_recognition()"
   ]
  },
  {
   "cell_type": "markdown",
   "metadata": {},
   "source": [
    "## Testing for saving the face embeddings for future uses in database"
   ]
  },
  {
   "cell_type": "code",
   "execution_count": 6,
   "metadata": {},
   "outputs": [
    {
     "name": "stdout",
     "output_type": "stream",
     "text": [
      "Face embeddings and names saved successfully.\n"
     ]
    }
   ],
   "source": [
    "import pickle\n",
    "\n",
    "with open('face_embeddings.pkl', 'wb') as f:\n",
    "    pickle.dump((known_face_embeddings, known_face_names), f)\n",
    "\n",
    "print(\"Face embeddings and names saved successfully.\")\n",
    "\n"
   ]
  },
  {
   "cell_type": "code",
   "execution_count": 7,
   "metadata": {},
   "outputs": [
    {
     "name": "stdout",
     "output_type": "stream",
     "text": [
      "Face embeddings and names loaded successfully.\n",
      "['Me']\n"
     ]
    }
   ],
   "source": [
    "import pickle\n",
    "\n",
    "# Load the embeddings and names from the .pkl file\n",
    "with open('face_embeddings.pkl', 'rb') as f:\n",
    "    known_face_embeddings, known_face_names = pickle.load(f)\n",
    "\n",
    "print(\"Face embeddings and names loaded successfully.\")\n",
    "print(known_face_names) #for checking\n"
   ]
  }
 ],
 "metadata": {
  "kernelspec": {
   "display_name": "dlibvenv",
   "language": "python",
   "name": "python3"
  },
  "language_info": {
   "codemirror_mode": {
    "name": "ipython",
    "version": 3
   },
   "file_extension": ".py",
   "mimetype": "text/x-python",
   "name": "python",
   "nbconvert_exporter": "python",
   "pygments_lexer": "ipython3",
   "version": "3.11.7"
  }
 },
 "nbformat": 4,
 "nbformat_minor": 2
}
